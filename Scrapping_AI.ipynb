{
  "nbformat": 4,
  "nbformat_minor": 0,
  "metadata": {
    "colab": {
      "provenance": []
    },
    "kernelspec": {
      "name": "python3",
      "display_name": "Python 3"
    },
    "language_info": {
      "name": "python"
    }
  },
  "cells": [
    {
      "cell_type": "code",
      "execution_count": null,
      "metadata": {
        "colab": {
          "base_uri": "https://localhost:8080/"
        },
        "id": "8ybEq2_Z5gF1",
        "outputId": "7fbfb85e-f10b-4eb4-9db4-f556b6b48b61"
      },
      "outputs": [
        {
          "output_type": "stream",
          "name": "stdout",
          "text": [
            "Téléchargement de https://msgg.gov.mr/sites/default/files/2025-05/empty2_0.pdf\n",
            "Téléchargement de https://msgg.gov.mr/sites/default/files/2025-05/empty2.pdf\n",
            "Téléchargement de https://msgg.gov.mr/sites/default/files/2025-04/J.O.%201579A%20DU%2015.04.2025.pdf\n",
            "Téléchargement de https://msgg.gov.mr/sites/default/files/2025-04/LF%202025%20AR.pdf\n",
            "Téléchargement de https://msgg.gov.mr/sites/default/files/2025-04/J.O%201578%20A%20du%2030.03.2025.pdf\n",
            "Téléchargement de https://msgg.gov.mr/sites/default/files/2025-03/J.O-1577-A-du-15.03.20.25.pdf\n",
            "Téléchargement de https://msgg.gov.mr/sites/default/files/2025-03/J.O.-1576A-DU-28.02.2025.pdf\n",
            "Téléchargement de https://msgg.gov.mr/sites/default/files/2025-02/J.O.-1575A-DU-15.02.2025_0.pdf\n",
            "Téléchargement de https://msgg.gov.mr/sites/default/files/2025-02/J.O.-1574A-DU-30.01.2025.pdf\n",
            "Téléchargement de https://msgg.gov.mr/sites/default/files/2025-01/J.O-1573-A-du-15.01.2025.pdf\n",
            "Téléchargement de https://msgg.gov.mr/sites/default/files/2025-01/J.O.-1572A-DU-30.12.2024.pdf\n",
            "Téléchargement de https://msgg.gov.mr/sites/default/files/2025-01/J.O.-1571A-DU-15.12.2024.pdf\n",
            "Téléchargement de https://msgg.gov.mr/sites/default/files/2024-12/J.O.1570A-DU-30.11.2024.pdf\n",
            "Téléchargement de https://msgg.gov.mr/sites/default/files/2024-11/J.O.%201569A%20DU%2015.11.2024%20%281%29.pdf\n",
            "Téléchargement de https://msgg.gov.mr/sites/default/files/2024-11/J.O%201568%20A%20du%2030.10.2024.pdf\n",
            "Téléchargement de https://msgg.gov.mr/sites/default/files/2024-10/J.O%201567%20A%20du%2015.10.2024%20%288%29.pdf\n",
            "Téléchargement de https://msgg.gov.mr/sites/default/files/2024-10/J.O.%201566A%20DU%2030.09.2024.pdf\n",
            "Téléchargement de https://msgg.gov.mr/sites/default/files/2025-04/J.O.%201565A%20%20DU%2015.09.2024.pdf\n",
            "Téléchargement de https://msgg.gov.mr/sites/default/files/2024-09/J.O.%201564A%20DU%2030.08.2024.pdf\n",
            "Téléchargement de https://msgg.gov.mr/sites/default/files/2024-08/J.O.-1563A-DU-15.08.2024.pdf\n",
            "Téléchargement de https://msgg.gov.mr/sites/default/files/2024-08/J.O.-1562A-DU-30.07.2024.pdf\n",
            "Téléchargement de https://msgg.gov.mr/sites/default/files/2025-04/J.O.%201561A%20DU%2015.07.2024_0.pdf\n",
            "Téléchargement de https://msgg.gov.mr/sites/default/files/2024-07/J.O.%201560A%20DU%2030.06.2024.pdf\n",
            "Téléchargement de https://msgg.gov.mr/sites/default/files/2024-06/J.O.%201559A%20DU%2015.06.2024%20c.pdf\n",
            "Téléchargement de https://msgg.gov.mr/sites/default/files/2024-06/J.O.%201558A%20DU%2030.05.2024.pdf\n",
            "Téléchargement de https://msgg.gov.mr/sites/default/files/2024-05/J.O.-1557A-DU-15.05.2024.pdf\n",
            "Téléchargement de https://msgg.gov.mr/sites/default/files/2024-05/J.O.%201556A%20DU%2030.04.2024%20%283%29.pdf\n",
            "Téléchargement de https://msgg.gov.mr/sites/default/files/2024-04/J.O%201555%20A%20du%2015.04.2024.pdf\n",
            "Téléchargement de https://msgg.gov.mr/sites/default/files/2024-04/J.O%201554%20A%20du%2030.03.2024.pdf\n",
            "Téléchargement de https://msgg.gov.mr/sites/default/files/2024-03/J.O.-1553A-DU-15.03.2024.pdf\n",
            "Téléchargement de https://msgg.gov.mr/sites/default/files/2024-03/J.O.-1552A-DU-29.02.2024-1.pdf\n",
            "Téléchargement de https://msgg.gov.mr/sites/default/files/2024-02/J.O.1551A-DU-15.02.2024-1.pdf\n",
            "Téléchargement de https://msgg.gov.mr/sites/default/files/2024-02/J.O.-1550A-DU-30.01.2024.pdf\n",
            "Téléchargement de https://msgg.gov.mr/sites/default/files/2024-01/J.O%201549%20A%20du%2015.01.2024%20%281%29.pdf\n",
            "Téléchargement de https://msgg.gov.mr/sites/default/files/2024-01/J.O.%201525A%20DU%2015.11.2023%20LFI_0.pdf\n",
            "Téléchargement de https://msgg.gov.mr/sites/default/files/2024-01/J.O.%201539A%20DU%2015.11.2023%20LFR_0.pdf\n",
            "Téléchargement de https://msgg.gov.mr/sites/default/files/2024-01/J.O%201548A%20du%2030.12.2023%20cor.pdf\n",
            "Téléchargement de https://msgg.gov.mr/sites/default/files/2024-01/J.O.%201547A%20DU%2015.12.2023.pdf\n",
            "Téléchargement de https://msgg.gov.mr/sites/default/files/2024-01/J.O.%201546A%20DU%2030.11.2023-1.pdf\n",
            "Téléchargement de https://msgg.gov.mr/sites/default/files/2023-11/J.O.-1545A-DU-15.11.2023.pdf\n",
            "Téléchargement de https://msgg.gov.mr/sites/default/files/2023-11/J.O.%201544A%20DU%2030.10.2023.pdf\n",
            "Téléchargement de https://msgg.gov.mr/sites/default/files/2023-10/J.O.%201543A%20DU%2015.10.2023.pdf\n",
            "Téléchargement de https://msgg.gov.mr/sites/default/files/2023-10/J.O%201542%20A%20du%2030.09.2023_0.pdf\n",
            "Téléchargement de https://msgg.gov.mr/sites/default/files/2023-09/J.O.%201541A%20DU%20315.09.2023.pdf\n",
            "Téléchargement de https://msgg.gov.mr/sites/default/files/2023-09/J.O.%201540A%20DU%2030.08.2023.pdf\n",
            "Téléchargement de https://msgg.gov.mr/sites/default/files/2023-08/J.O.%201539A%20DU%2015.08.2023.pdf\n",
            "Téléchargement de https://msgg.gov.mr/sites/default/files/2023-07/J.O.%201538A%20DU%2030.07.2023.pdf\n",
            "Téléchargement de https://msgg.gov.mr/sites/default/files/2023-07/J.O.%201537A%20DU%2015.07.2023.pdf\n",
            "Téléchargement de https://msgg.gov.mr/sites/default/files/2023-07/J.O.%201536A%20DU%2030.06.2023.pdf\n",
            "Téléchargement de https://msgg.gov.mr/sites/default/files/2023-07/J.O%201535%20A%20du%2015.06.2023.pdf\n"
          ]
        }
      ],
      "source": [
        "import requests\n",
        "from bs4 import BeautifulSoup\n",
        "import os\n",
        "import time\n",
        "\n",
        "# URL de la page contenant les éditions du Journal Officiel\n",
        "base_url = \"https://msgg.gov.mr/ar/journal-officiel\"\n",
        "\n",
        "# Dossier de destination pour les fichiers PDF\n",
        "output_dir = \"journal_officiel_pdfs\"\n",
        "os.makedirs(output_dir, exist_ok=True)\n",
        "\n",
        "# Fonction pour récupérer les liens PDF depuis une page\n",
        "def get_pdf_links(page_url):\n",
        "    response = requests.get(page_url)\n",
        "    soup = BeautifulSoup(response.content, \"html.parser\")\n",
        "    pdf_links = []\n",
        "    for link in soup.find_all(\"a\", href=True):\n",
        "        href = link[\"href\"]\n",
        "        if href.lower().endswith(\".pdf\"):\n",
        "            full_url = requests.compat.urljoin(base_url, href)\n",
        "            pdf_links.append(full_url)\n",
        "    return pdf_links\n",
        "\n",
        "# Récupération des liens PDF depuis la première page\n",
        "pdf_links = get_pdf_links(base_url)\n",
        "\n",
        "# Téléchargement des fichiers PDF\n",
        "for url in pdf_links:\n",
        "    filename = os.path.join(output_dir, os.path.basename(url))\n",
        "    if not os.path.exists(filename):\n",
        "        print(f\"Téléchargement de {url}\")\n",
        "        response = requests.get(url)\n",
        "        with open(filename, \"wb\") as f:\n",
        "            f.write(response.content)\n",
        "        time.sleep(1)  # Pause pour éviter de surcharger le serveur\n",
        "    else:\n",
        "        print(f\"{filename} existe déjà, téléchargement ignoré.\")\n"
      ]
    },
    {
      "cell_type": "code",
      "source": [
        "pip install pdfminer.six\n"
      ],
      "metadata": {
        "id": "R_h7nJ6Q5oUk"
      },
      "execution_count": null,
      "outputs": []
    },
    {
      "cell_type": "code",
      "source": [
        "import os\n",
        "import requests\n",
        "import time\n",
        "from bs4 import BeautifulSoup\n",
        "\n",
        "# === Chemin fixe vers le dossier Downloads ===\n",
        "downloads_dir = r\"C:\\Users\\Hp\\Downloads\"\n",
        "os.makedirs(downloads_dir, exist_ok=True)\n",
        "\n",
        "# === URL de la page contenant les éditions du Journal Officiel ===\n",
        "base_url = \"https://msgg.gov.mr/ar/journal-officiel\"\n",
        "\n",
        "# === Fonction pour récupérer les liens PDF depuis la page ===\n",
        "def get_pdf_links(page_url):\n",
        "    response = requests.get(page_url)\n",
        "    soup = BeautifulSoup(response.content, \"html.parser\")\n",
        "    pdf_links = []\n",
        "    for link in soup.find_all(\"a\", href=True):\n",
        "        href = link[\"href\"]\n",
        "        if href.lower().endswith(\".pdf\"):\n",
        "            full_url = requests.compat.urljoin(base_url, href)\n",
        "            pdf_links.append(full_url)\n",
        "    return pdf_links\n",
        "\n",
        "# === Récupération des liens PDF depuis la page principale ===\n",
        "pdf_links = get_pdf_links(base_url)\n",
        "\n",
        "# === Téléchargement dans le dossier Downloads ===\n",
        "for url in pdf_links:\n",
        "    filename = os.path.join(downloads_dir, os.path.basename(url.split(\"?\")[0]))\n",
        "    if not os.path.exists(filename):\n",
        "        try:\n",
        "            print(f\"Téléchargement de {url}\")\n",
        "            response = requests.get(url)\n",
        "            with open(filename, \"wb\") as f:\n",
        "                f.write(response.content)\n",
        "            time.sleep(1)  # Petite pause pour ne pas surcharger le serveur\n",
        "        except Exception as e:\n",
        "            print(f\"❌ Erreur pour {url} : {e}\")\n",
        "    else:\n",
        "        print(f\"✅ Déjà présent : {filename}\")\n"
      ],
      "metadata": {
        "id": "Y5j-9bF68y_v",
        "colab": {
          "base_uri": "https://localhost:8080/"
        },
        "outputId": "ceb49b9e-b581-4e89-a23c-45241401428a"
      },
      "execution_count": null,
      "outputs": [
        {
          "output_type": "stream",
          "name": "stdout",
          "text": [
            "Téléchargement de https://msgg.gov.mr/sites/default/files/2025-05/empty2_0.pdf\n",
            "Téléchargement de https://msgg.gov.mr/sites/default/files/2025-05/empty2.pdf\n",
            "Téléchargement de https://msgg.gov.mr/sites/default/files/2025-04/J.O.%201579A%20DU%2015.04.2025.pdf\n",
            "Téléchargement de https://msgg.gov.mr/sites/default/files/2025-04/LF%202025%20AR.pdf\n",
            "Téléchargement de https://msgg.gov.mr/sites/default/files/2025-04/J.O%201578%20A%20du%2030.03.2025.pdf\n",
            "Téléchargement de https://msgg.gov.mr/sites/default/files/2025-03/J.O-1577-A-du-15.03.20.25.pdf\n",
            "Téléchargement de https://msgg.gov.mr/sites/default/files/2025-03/J.O.-1576A-DU-28.02.2025.pdf\n",
            "Téléchargement de https://msgg.gov.mr/sites/default/files/2025-02/J.O.-1575A-DU-15.02.2025_0.pdf\n",
            "Téléchargement de https://msgg.gov.mr/sites/default/files/2025-02/J.O.-1574A-DU-30.01.2025.pdf\n",
            "Téléchargement de https://msgg.gov.mr/sites/default/files/2025-01/J.O-1573-A-du-15.01.2025.pdf\n",
            "Téléchargement de https://msgg.gov.mr/sites/default/files/2025-01/J.O.-1572A-DU-30.12.2024.pdf\n",
            "Téléchargement de https://msgg.gov.mr/sites/default/files/2025-01/J.O.-1571A-DU-15.12.2024.pdf\n",
            "Téléchargement de https://msgg.gov.mr/sites/default/files/2024-12/J.O.1570A-DU-30.11.2024.pdf\n",
            "Téléchargement de https://msgg.gov.mr/sites/default/files/2024-11/J.O.%201569A%20DU%2015.11.2024%20%281%29.pdf\n",
            "Téléchargement de https://msgg.gov.mr/sites/default/files/2024-11/J.O%201568%20A%20du%2030.10.2024.pdf\n",
            "Téléchargement de https://msgg.gov.mr/sites/default/files/2024-10/J.O%201567%20A%20du%2015.10.2024%20%288%29.pdf\n",
            "Téléchargement de https://msgg.gov.mr/sites/default/files/2024-10/J.O.%201566A%20DU%2030.09.2024.pdf\n",
            "Téléchargement de https://msgg.gov.mr/sites/default/files/2025-04/J.O.%201565A%20%20DU%2015.09.2024.pdf\n",
            "Téléchargement de https://msgg.gov.mr/sites/default/files/2024-09/J.O.%201564A%20DU%2030.08.2024.pdf\n",
            "Téléchargement de https://msgg.gov.mr/sites/default/files/2024-08/J.O.-1563A-DU-15.08.2024.pdf\n",
            "Téléchargement de https://msgg.gov.mr/sites/default/files/2024-08/J.O.-1562A-DU-30.07.2024.pdf\n",
            "Téléchargement de https://msgg.gov.mr/sites/default/files/2025-04/J.O.%201561A%20DU%2015.07.2024_0.pdf\n",
            "Téléchargement de https://msgg.gov.mr/sites/default/files/2024-07/J.O.%201560A%20DU%2030.06.2024.pdf\n",
            "Téléchargement de https://msgg.gov.mr/sites/default/files/2024-06/J.O.%201559A%20DU%2015.06.2024%20c.pdf\n",
            "Téléchargement de https://msgg.gov.mr/sites/default/files/2024-06/J.O.%201558A%20DU%2030.05.2024.pdf\n",
            "Téléchargement de https://msgg.gov.mr/sites/default/files/2024-05/J.O.-1557A-DU-15.05.2024.pdf\n",
            "Téléchargement de https://msgg.gov.mr/sites/default/files/2024-05/J.O.%201556A%20DU%2030.04.2024%20%283%29.pdf\n",
            "Téléchargement de https://msgg.gov.mr/sites/default/files/2024-04/J.O%201555%20A%20du%2015.04.2024.pdf\n",
            "Téléchargement de https://msgg.gov.mr/sites/default/files/2024-04/J.O%201554%20A%20du%2030.03.2024.pdf\n",
            "Téléchargement de https://msgg.gov.mr/sites/default/files/2024-03/J.O.-1553A-DU-15.03.2024.pdf\n",
            "Téléchargement de https://msgg.gov.mr/sites/default/files/2024-03/J.O.-1552A-DU-29.02.2024-1.pdf\n",
            "Téléchargement de https://msgg.gov.mr/sites/default/files/2024-02/J.O.1551A-DU-15.02.2024-1.pdf\n",
            "Téléchargement de https://msgg.gov.mr/sites/default/files/2024-02/J.O.-1550A-DU-30.01.2024.pdf\n",
            "Téléchargement de https://msgg.gov.mr/sites/default/files/2024-01/J.O%201549%20A%20du%2015.01.2024%20%281%29.pdf\n",
            "Téléchargement de https://msgg.gov.mr/sites/default/files/2024-01/J.O.%201525A%20DU%2015.11.2023%20LFI_0.pdf\n",
            "Téléchargement de https://msgg.gov.mr/sites/default/files/2024-01/J.O.%201539A%20DU%2015.11.2023%20LFR_0.pdf\n",
            "Téléchargement de https://msgg.gov.mr/sites/default/files/2024-01/J.O%201548A%20du%2030.12.2023%20cor.pdf\n",
            "Téléchargement de https://msgg.gov.mr/sites/default/files/2024-01/J.O.%201547A%20DU%2015.12.2023.pdf\n",
            "Téléchargement de https://msgg.gov.mr/sites/default/files/2024-01/J.O.%201546A%20DU%2030.11.2023-1.pdf\n",
            "Téléchargement de https://msgg.gov.mr/sites/default/files/2023-11/J.O.-1545A-DU-15.11.2023.pdf\n",
            "Téléchargement de https://msgg.gov.mr/sites/default/files/2023-11/J.O.%201544A%20DU%2030.10.2023.pdf\n",
            "Téléchargement de https://msgg.gov.mr/sites/default/files/2023-10/J.O.%201543A%20DU%2015.10.2023.pdf\n",
            "Téléchargement de https://msgg.gov.mr/sites/default/files/2023-10/J.O%201542%20A%20du%2030.09.2023_0.pdf\n",
            "Téléchargement de https://msgg.gov.mr/sites/default/files/2023-09/J.O.%201541A%20DU%20315.09.2023.pdf\n",
            "Téléchargement de https://msgg.gov.mr/sites/default/files/2023-09/J.O.%201540A%20DU%2030.08.2023.pdf\n",
            "Téléchargement de https://msgg.gov.mr/sites/default/files/2023-08/J.O.%201539A%20DU%2015.08.2023.pdf\n",
            "Téléchargement de https://msgg.gov.mr/sites/default/files/2023-07/J.O.%201538A%20DU%2030.07.2023.pdf\n",
            "Téléchargement de https://msgg.gov.mr/sites/default/files/2023-07/J.O.%201537A%20DU%2015.07.2023.pdf\n",
            "Téléchargement de https://msgg.gov.mr/sites/default/files/2023-07/J.O.%201536A%20DU%2030.06.2023.pdf\n",
            "Téléchargement de https://msgg.gov.mr/sites/default/files/2023-07/J.O%201535%20A%20du%2015.06.2023.pdf\n"
          ]
        }
      ]
    },
    {
      "cell_type": "code",
      "source": [
        "import os\n",
        "from pdfminer.high_level import extract_text\n",
        "\n",
        "# Chemin du dossier où sont les PDF (Downloads)\n",
        "downloads_dir = r\"C:\\Users\\Hp\\Downloads\"\n",
        "\n",
        "# Créer un sous-dossier pour stocker les fichiers texte\n",
        "text_dir = os.path.join(downloads_dir, \"jo_texts\")\n",
        "os.makedirs(text_dir, exist_ok=True)\n",
        "\n",
        "# Parcourir tous les fichiers dans le dossier Downloads\n",
        "for filename in os.listdir(downloads_dir):\n",
        "    if filename.lower().endswith(\".pdf\"):\n",
        "        pdf_path = os.path.join(downloads_dir, filename)\n",
        "        txt_filename = os.path.splitext(filename)[0] + \".txt\"\n",
        "        txt_path = os.path.join(text_dir, txt_filename)\n",
        "\n",
        "        # Éviter la duplication\n",
        "        if os.path.exists(txt_path):\n",
        "            print(f\"✅ Texte déjà extrait : {txt_filename}\")\n",
        "            continue\n",
        "\n",
        "        try:\n",
        "            print(f\"📄 Extraction de {filename}...\")\n",
        "            text = extract_text(pdf_path)\n",
        "            with open(txt_path, \"w\", encoding=\"utf-8\") as f:\n",
        "                f.write(text)\n",
        "        except Exception as e:\n",
        "            print(f\"❌ Erreur avec {filename} : {e}\")\n"
      ],
      "metadata": {
        "colab": {
          "base_uri": "https://localhost:8080/"
        },
        "id": "2yuFlx94ejia",
        "outputId": "19b52fc2-0527-476b-f710-d4abcf694d01"
      },
      "execution_count": null,
      "outputs": [
        {
          "output_type": "stream",
          "name": "stdout",
          "text": [
            "📄 Extraction de J.O.%201543A%20DU%2015.10.2023.pdf...\n",
            "📄 Extraction de J.O%201568%20A%20du%2030.10.2024.pdf...\n",
            "📄 Extraction de J.O.%201541A%20DU%20315.09.2023.pdf...\n",
            "📄 Extraction de J.O.-1572A-DU-30.12.2024.pdf...\n",
            "📄 Extraction de J.O.%201539A%20DU%2015.11.2023%20LFR_0.pdf...\n",
            "📄 Extraction de J.O.-1550A-DU-30.01.2024.pdf...\n",
            "📄 Extraction de J.O.%201564A%20DU%2030.08.2024.pdf...\n",
            "📄 Extraction de J.O.%201561A%20DU%2015.07.2024_0.pdf...\n",
            "📄 Extraction de J.O.-1562A-DU-30.07.2024.pdf...\n",
            "📄 Extraction de J.O%201549%20A%20du%2015.01.2024%20%281%29.pdf...\n",
            "📄 Extraction de J.O-1573-A-du-15.01.2025.pdf...\n",
            "📄 Extraction de J.O%201578%20A%20du%2030.03.2025.pdf...\n",
            "📄 Extraction de J.O.%201558A%20DU%2030.05.2024.pdf...\n",
            "📄 Extraction de J.O.-1563A-DU-15.08.2024.pdf...\n",
            "📄 Extraction de J.O.1570A-DU-30.11.2024.pdf...\n",
            "📄 Extraction de J.O.%201536A%20DU%2030.06.2023.pdf...\n",
            "📄 Extraction de J.O%201548A%20du%2030.12.2023%20cor.pdf...\n",
            "📄 Extraction de J.O.%201579A%20DU%2015.04.2025.pdf...\n",
            "📄 Extraction de J.O.-1552A-DU-29.02.2024-1.pdf...\n",
            "📄 Extraction de J.O.%201544A%20DU%2030.10.2023.pdf...\n",
            "📄 Extraction de J.O%201542%20A%20du%2030.09.2023_0.pdf...\n",
            "📄 Extraction de J.O.%201565A%20%20DU%2015.09.2024.pdf...\n",
            "📄 Extraction de J.O.-1576A-DU-28.02.2025.pdf...\n",
            "📄 Extraction de J.O.1551A-DU-15.02.2024-1.pdf...\n",
            "📄 Extraction de J.O.%201537A%20DU%2015.07.2023.pdf...\n",
            "📄 Extraction de J.O.-1545A-DU-15.11.2023.pdf...\n",
            "📄 Extraction de J.O.%201525A%20DU%2015.11.2023%20LFI_0.pdf...\n",
            "📄 Extraction de J.O.-1574A-DU-30.01.2025.pdf...\n",
            "📄 Extraction de J.O.%201569A%20DU%2015.11.2024%20%281%29.pdf...\n",
            "📄 Extraction de J.O.-1557A-DU-15.05.2024.pdf...\n",
            "📄 Extraction de J.O.-1575A-DU-15.02.2025_0.pdf...\n",
            "📄 Extraction de J.O%201554%20A%20du%2030.03.2024.pdf...\n",
            "📄 Extraction de J.O.%201559A%20DU%2015.06.2024%20c.pdf...\n",
            "📄 Extraction de J.O-1577-A-du-15.03.20.25.pdf...\n",
            "📄 Extraction de J.O%201567%20A%20du%2015.10.2024%20%288%29.pdf...\n",
            "📄 Extraction de LF%202025%20AR.pdf...\n",
            "📄 Extraction de J.O%201555%20A%20du%2015.04.2024.pdf...\n",
            "📄 Extraction de J.O.-1553A-DU-15.03.2024.pdf...\n",
            "📄 Extraction de J.O.%201560A%20DU%2030.06.2024.pdf...\n",
            "📄 Extraction de J.O.%201540A%20DU%2030.08.2023.pdf...\n",
            "📄 Extraction de J.O%201535%20A%20du%2015.06.2023.pdf...\n",
            "📄 Extraction de J.O.%201566A%20DU%2030.09.2024.pdf...\n",
            "📄 Extraction de J.O.%201546A%20DU%2030.11.2023-1.pdf...\n",
            "📄 Extraction de J.O.%201538A%20DU%2030.07.2023.pdf...\n",
            "📄 Extraction de empty2.pdf...\n",
            "📄 Extraction de J.O.%201556A%20DU%2030.04.2024%20%283%29.pdf...\n",
            "📄 Extraction de empty2_0.pdf...\n",
            "📄 Extraction de J.O.%201547A%20DU%2015.12.2023.pdf...\n",
            "📄 Extraction de J.O.-1571A-DU-15.12.2024.pdf...\n",
            "📄 Extraction de J.O.%201539A%20DU%2015.08.2023.pdf...\n"
          ]
        }
      ]
    },
    {
      "cell_type": "code",
      "source": [
        "pip install sentence-transformers faiss-cpu\n"
      ],
      "metadata": {
        "id": "H4UYuAPEgVH8"
      },
      "execution_count": null,
      "outputs": []
    },
    {
      "cell_type": "code",
      "source": [
        "import os\n",
        "from sentence_transformers import SentenceTransformer\n",
        "import faiss\n",
        "import pickle\n",
        "\n",
        "# === CONFIGURATION ===\n",
        "text_dir = \"/content/Scrapping/jo_texts\"  # Chemin mis à jour\n",
        "chunk_size = 512\n",
        "overlap = 50\n",
        "model_name = 'sentence-transformers/paraphrase-multilingual-MiniLM-L12-v2'\n",
        "embedding_model = SentenceTransformer(model_name)\n",
        "\n",
        "# 🔧 Vérifie que le dossier existe\n",
        "if not os.path.exists(text_dir):\n",
        "    raise FileNotFoundError(f\"❌ Le dossier {text_dir} n'existe pas.\")\n",
        "\n",
        "documents = []\n",
        "metadatas = []\n",
        "\n",
        "# === CHUNKING ===\n",
        "def split_text(text, chunk_size=512, overlap=50):\n",
        "    chunks = []\n",
        "    start = 0\n",
        "    while start < len(text):\n",
        "        end = start + chunk_size\n",
        "        chunks.append(text[start:end])\n",
        "        start = end - overlap\n",
        "    return chunks\n",
        "\n",
        "# === CHARGER LES FICHIERS TXT ET CHUNKER ===\n",
        "for filename in os.listdir(text_dir):\n",
        "    if filename.endswith(\".txt\"):\n",
        "        path = os.path.join(text_dir, filename)\n",
        "        with open(path, \"r\", encoding=\"utf-8\") as f:\n",
        "            content = f.read().strip()\n",
        "            if content:  # ne pas chunker les vides\n",
        "                for chunk in split_text(content, chunk_size, overlap):\n",
        "                    documents.append(chunk)\n",
        "                    metadatas.append({\"source\": filename})\n",
        "\n",
        "print(f\"📄 Total de chunks créés : {len(documents)}\")\n",
        "\n",
        "if not documents:\n",
        "    raise ValueError(\"❌ Aucun chunk trouvé. Vérifie le contenu des fichiers .txt.\")\n",
        "\n",
        "# === ENCODAGE DES CHUNKS EN VECTEURS ===\n",
        "print(\"🔎 Encodage en vecteurs...\")\n",
        "embeddings = embedding_model.encode(documents)\n",
        "\n",
        "# === CRÉATION DU VECTOR STORE AVEC FAISS ===\n",
        "index = faiss.IndexFlatL2(embeddings.shape[1])\n",
        "index.add(embeddings)\n",
        "\n",
        "# === SAUVEGARDE DU VECTOR STORE ===\n",
        "index_path = os.path.join(text_dir, \"jo_vector.index\")\n",
        "meta_path = os.path.join(text_dir, \"jo_metadata.pkl\")\n",
        "\n",
        "faiss.write_index(index, index_path)\n",
        "with open(meta_path, \"wb\") as f:\n",
        "    pickle.dump(metadatas, f)\n",
        "\n",
        "print(f\"✅ Vector store enregistré : {index_path}\")\n",
        "print(f\"🗂️ Métadonnées enregistrées : {meta_path}\")\n"
      ],
      "metadata": {
        "colab": {
          "base_uri": "https://localhost:8080/"
        },
        "id": "qcoaFq8Gnu4i",
        "outputId": "37b605f4-47fc-43cd-9cb5-9d3fefa74e60"
      },
      "execution_count": null,
      "outputs": [
        {
          "output_type": "stream",
          "name": "stdout",
          "text": [
            "📄 Total de chunks créés : 28178\n",
            "🔎 Encodage en vecteurs...\n",
            "✅ Vector store enregistré : /content/Scrapping/jo_texts/jo_vector.index\n",
            "🗂️ Métadonnées enregistrées : /content/Scrapping/jo_texts/jo_metadata.pkl\n"
          ]
        }
      ]
    },
    {
      "cell_type": "code",
      "source": [
        "pip install sentence-transformers faiss-cpu\n"
      ],
      "metadata": {
        "id": "R_aCvQNpvZq8"
      },
      "execution_count": null,
      "outputs": []
    },
    {
      "cell_type": "code",
      "source": [
        "import os\n",
        "import pickle\n",
        "import faiss\n",
        "from sentence_transformers import SentenceTransformer\n",
        "\n",
        "# === CONFIGURATION ===\n",
        "text_dir = \"/content/Scrapping/jo_texts\"\n",
        "model_name = 'sentence-transformers/paraphrase-multilingual-MiniLM-L12-v2'\n",
        "embedding_model = SentenceTransformer(model_name)\n",
        "\n",
        "# === CHARGEMENT DU VECTOR STORE ET MÉTADONNÉES ===\n",
        "index = faiss.read_index(os.path.join(text_dir, \"jo_vector.index\"))\n",
        "with open(os.path.join(text_dir, \"jo_metadata.pkl\"), \"rb\") as f:\n",
        "    metadatas = pickle.load(f)\n",
        "\n",
        "# === CHARGER LES TEXTES ORIGINAUX ===\n",
        "# Important : il faut recharger les chunks dans le même ordre\n",
        "documents = []\n",
        "for filename in os.listdir(text_dir):\n",
        "    if filename.endswith(\".txt\"):\n",
        "        path = os.path.join(text_dir, filename)\n",
        "        with open(path, \"r\", encoding=\"utf-8\") as f:\n",
        "            content = f.read().strip()\n",
        "            # Refais le chunking comme avant\n",
        "            start = 0\n",
        "            while start < len(content):\n",
        "                end = start + 512\n",
        "                documents.append(content[start:end])\n",
        "                start = end - 50\n",
        "\n",
        "print(f\"📚 Chunks rechargés : {len(documents)}\")\n",
        "\n",
        "# === MOTEUR DE RECHERCHE ===\n",
        "def search(query, top_k=3):\n",
        "    query_vec = embedding_model.encode([query])\n",
        "    distances, indices = index.search(query_vec, top_k)\n",
        "\n",
        "    results = []\n",
        "    for i, score in zip(indices[0], distances[0]):\n",
        "        chunk = documents[i]\n",
        "        source = metadatas[i][\"source\"]\n",
        "        results.append((chunk.strip(), source, score))\n",
        "    return results\n",
        "\n",
        "# === UTILISATION ===\n",
        "query = input(\"🔍 Pose ta question en arabe : \")\n",
        "results = search(query, top_k=3)\n",
        "\n",
        "print(\"\\n=== 📖 Résultats pertinents ===\")\n",
        "for i, (chunk, source, score) in enumerate(results, 1):\n",
        "    print(f\"\\n🔹 Résultat {i} (source: {source}, score: {score:.2f})\\n{chunk}\")\n"
      ],
      "metadata": {
        "colab": {
          "base_uri": "https://localhost:8080/"
        },
        "id": "5TNhCRsBvZne",
        "outputId": "af1cf2a4-42d7-4499-9368-cbe582596048"
      },
      "execution_count": null,
      "outputs": [
        {
          "output_type": "stream",
          "name": "stdout",
          "text": [
            "📚 Chunks rechargés : 28178\n",
            "🔍 Pose ta question en arabe : ما هو القانون المتعلق بالميزانية لسنة 2023؟\n",
            "\n",
            "=== 📖 Résultats pertinents ===\n",
            "\n",
            "🔹 Résultat 1 (source: empty2.txt, score: 8.07)\n",
            "ﺎ ﻷﺣﻜﺎم ﻗﺎﻧﻮن اﻟﻤﺎﻟﻴﺔ اﻟﻤﻌﺪل ﻫﺬا وﻗﺎﻧﻮن اﻟﻤﺎﻟﻴﺔ \n",
            "\n",
            "2024\n",
            "\n",
            "اﻟﻤﺎدة اﻷوP: اﻟﻄﺎﺑﻊ اﻟﺘﻨﻔﻴﺬي ﻟﻤﻴﺰاﻧﻴﺔ ﺳﻨﺔ \n",
            "ﺳﺘﻨﻔﺬ ﻣﻴﺰاﻧﻴﺔ اﻟﺪوﻟﺔ ﻟﺴﻨﺔ \n",
            "اﻟﻤﺎﻟﻴﺔ واﻷواﻣﺮ اﻟﻘﺎﻧﻮﻧﻴﺔ اﻟﺴﺎﺑﻘﺔ V ﻛﻞ ﻣﺎ ﻟﻢ ﻳﺘﻢ ﺗﻌﺪﻳﻠﻪ أو إﻟﻐﺎؤه. \n",
            "\n",
            "2024\n",
            "\n",
            "2 - أﺣﻜﺎم ﺗﺘﻌﻠﻖ ﺑﺎﻟﻤﻮارد \n",
            "\n",
            "اﻟﻤﺎدة 2: اﻟﺘﺮﺧﻴﺺ ﺑﺠﺒﺎﻳﺔ اﻟﻀﺮاﺋﺐ اﻟﺤﺎﻟﻴﺔ واﻟﻀﺮاﺋﺐ اﻟﻤﻘﺘﺮح إﻧﺸﺎؤﻫﺎ. \n",
            "ﻳﻈﻞ ﺗﺤﺼﻴﻞ اﻟﻀﺮاﺋﺐ واﻟﺮﺳﻮم واﻟﻤﺴﺎﻫﻤﺎت واﻹﺗﺎوات واﻟﻨﻮاﺗﺞ واﻟﻌﺎﺋﺪات اﻟﻤﺨﺼﺼﺔ ﻟﻠﺪوﻟﺔ \n",
            "2024\n",
            "واﻟﻤﺠﻤﻮﻋﺎت اﻹﻗﻠﻴﻤﻴﺔ واﻟﻤﺆﺳﺴﺎت اﻟﻌﻤﻮﻣﻴﺔ واﻟﻬﻴﺌﺎت اﻟﻤﺆﻫﻠﺔ ﻟﺠﺒﺎﻳﺘﻬﺎ، ﻣﻌﻤﻮﻻ ﺑﻪ ﻃﻴﻠﺔ ﺳﻨﺔ \n",
            "وﻓﻘﺎ ﻟﻠﻘﻮاﻧﻴﻦ واﻟﻨﻈﻢ اﻟﻤﻌﻤﻮل ﺑﻬﺎ وﻷﺣﻜﺎم ﻫﺬا ا\n",
            "\n",
            "🔹 Résultat 2 (source: J.O.%201525A%20DU%2015.11.2023%20LFI_0.txt, score: 8.25)\n",
            "1.      DISPOSITIONS DE NATURE GÉNÉRALE\n",
            "\n",
            "Article premier : Caractère exécutoire du budget de l’année 2022\n",
            "\n",
            "Le budget de l’Etat de l’année 2022 sera exécuté conformément aux dispositions \n",
            "\n",
            "de la présente loi de finances, des lois de finances et ordonnances antérieures, \n",
            "\n",
            "en tout ce qui n’a pas été modifié ou abrogé, par la présente loi.\n",
            "\n",
            "2.     DISPOSITIONS RELATIVES AUX RESSOURCES\n",
            "\n",
            "création est   proposée\n",
            "\n",
            "La perception des impôts, taxes, contributions, redevances, produits et revenus \n",
            "\n",
            "affectés  à  l’Etat\n",
            "\n",
            "🔹 Résultat 3 (source: LF%202025%20AR.txt, score: 9.36)\n",
            "ﺑﻌﺪ ﻣﺼﺎدﻗﺔ اﻟﺠﻤﻌﻴﺔ اﻟﻮﻃﻨﻴﺔ \n",
            "ﻳﺼﺪر  رﺋﻴﺲ اﻟﺠﻤﻬﻮرﻳﺔ اﻟﻘﺎﻧﻮن اﻟﺘﺎ;: \n",
            "\n",
            "اﻟﺠـﺰء اﻷول\n",
            "\n",
            " أﺣﻜﺎم ذات ﻃﺎﺑﻊ ﻋﺎم  \n",
            "\n",
            "I.\n",
            "\n",
            " وﻓﻘﺎ ﻷﺣﻜﺎم ﻣﺸﺮوع ﻗﺎﻧﻮن اﻟﻤﺎﻟﻴﺔ اﻟﺤﺎ@ وﻗﻮاﻧﻴﻦ اﻟﻤﺎﻟﻴﺔ واﻷواﻣﺮ اﻟﻘﺎﻧﻮﻧﻴﺔ \n",
            "\n",
            " 2025 \n",
            "\n",
            "اﻟﻤﺎدة اﻷوW: اﻟﻄﺎﺑﻊ اﻟﺘﻨﻔﻴﺬي ﻟﻤﻴﺰاﻧﻴﺔ ﺳﻨﺔ\n",
            "2025\n",
            "ﺳﺘﻨﻔﺬ ﻣﻴﺰاﻧﻴﺔ اﻟﺪوﻟﺔ ﻟﻠﺴﻨﺔ اﻟﻤﺎﻟﻴﺔ \n",
            "اﻟﺴﺎﺑﻘﺔ C ﻛﻞ ﻣﺎ ﻟﻢ ﻳﺘﻢ ﺗﻌﺪﻳﻠﻪ أو إﻟﻐﺎؤه. \n",
            "\n",
            " أﺣﻜﺎم ﺗﺘﻌﻠﻖ ﺑﺎﻟﻤﻮارد \n",
            "\n",
            "II.\n",
            "\n",
            "اﻟﻤﺎدة 2: اﻟﺘﺮﺧﻴﺺ ﺑﺠﺒﺎﻳﺔ اﻟﻀﺮاﺋﺐ اﻟﺤﺎﻟﻴﺔ واﻟﻀﺮاﺋﺐ اﻟﻤﻘﺘﺮح إﻧﺸﺎؤﻫﺎ.  \n",
            "ﻳﻈﻞ ﺗﺤﺼﻴﻞ اﻟﻀﺮاﺋﺐ واﻟﺮﺳﻮم واﻟﻤﺴﺎﻫﻤﺎت واﻹﺗﺎوات واﻟﻨﻮاﺗﺞ واﻟﻌﺎﺋﺪات اﻟﻤﺨﺼﺼﺔ ﻟﻠﺪوﻟﺔ واﻟﻤﺠﻤﻮﻋﺎت \n",
            " وﻓﻘﺎ ﻟ\n"
          ]
        }
      ]
    },
    {
      "cell_type": "code",
      "source": [],
      "metadata": {
        "id": "LG137qY_vZks"
      },
      "execution_count": null,
      "outputs": []
    },
    {
      "cell_type": "code",
      "source": [],
      "metadata": {
        "id": "rZ8rI5xcvZh1"
      },
      "execution_count": null,
      "outputs": []
    },
    {
      "cell_type": "code",
      "source": [],
      "metadata": {
        "id": "zfjHfIShvZe-"
      },
      "execution_count": null,
      "outputs": []
    },
    {
      "cell_type": "code",
      "source": [],
      "metadata": {
        "id": "2kT95DAqvZcV"
      },
      "execution_count": null,
      "outputs": []
    },
    {
      "cell_type": "code",
      "source": [],
      "metadata": {
        "id": "W3SQd3NEvZZr"
      },
      "execution_count": null,
      "outputs": []
    },
    {
      "cell_type": "code",
      "source": [],
      "metadata": {
        "id": "ktjbrI9ZvZXG"
      },
      "execution_count": null,
      "outputs": []
    },
    {
      "cell_type": "code",
      "source": [],
      "metadata": {
        "id": "y21p2K3MvZUi"
      },
      "execution_count": null,
      "outputs": []
    },
    {
      "cell_type": "code",
      "source": [],
      "metadata": {
        "id": "NEQ4TA8mvZSD"
      },
      "execution_count": null,
      "outputs": []
    },
    {
      "cell_type": "code",
      "source": [
        "!pip install pdfminer.six\n"
      ],
      "metadata": {
        "colab": {
          "base_uri": "https://localhost:8080/"
        },
        "id": "qE1y4palqeAm",
        "outputId": "000de8c8-01f0-48cb-ad2e-7fb6bb2c94dd"
      },
      "execution_count": null,
      "outputs": [
        {
          "output_type": "stream",
          "name": "stdout",
          "text": [
            "Requirement already satisfied: pdfminer.six in /usr/local/lib/python3.11/dist-packages (20250506)\n",
            "Requirement already satisfied: charset-normalizer>=2.0.0 in /usr/local/lib/python3.11/dist-packages (from pdfminer.six) (3.4.2)\n",
            "Requirement already satisfied: cryptography>=36.0.0 in /usr/local/lib/python3.11/dist-packages (from pdfminer.six) (43.0.3)\n",
            "Requirement already satisfied: cffi>=1.12 in /usr/local/lib/python3.11/dist-packages (from cryptography>=36.0.0->pdfminer.six) (1.17.1)\n",
            "Requirement already satisfied: pycparser in /usr/local/lib/python3.11/dist-packages (from cffi>=1.12->cryptography>=36.0.0->pdfminer.six) (2.22)\n"
          ]
        }
      ]
    },
    {
      "cell_type": "code",
      "source": [
        "!zip -r jo_texts.zip \"/content/Scrapping/jo_texts\"\n"
      ],
      "metadata": {
        "id": "Ec8gty5QsKkh"
      },
      "execution_count": null,
      "outputs": []
    },
    {
      "cell_type": "code",
      "source": [
        "from google.colab import files\n",
        "files.download(\"jo_texts.zip\")"
      ],
      "metadata": {
        "colab": {
          "base_uri": "https://localhost:8080/",
          "height": 17
        },
        "id": "RRGBqoMNsupP",
        "outputId": "c9a6d1df-7a32-4ff1-ae00-137143c5e038"
      },
      "execution_count": null,
      "outputs": [
        {
          "output_type": "display_data",
          "data": {
            "text/plain": [
              "<IPython.core.display.Javascript object>"
            ],
            "application/javascript": [
              "\n",
              "    async function download(id, filename, size) {\n",
              "      if (!google.colab.kernel.accessAllowed) {\n",
              "        return;\n",
              "      }\n",
              "      const div = document.createElement('div');\n",
              "      const label = document.createElement('label');\n",
              "      label.textContent = `Downloading \"${filename}\": `;\n",
              "      div.appendChild(label);\n",
              "      const progress = document.createElement('progress');\n",
              "      progress.max = size;\n",
              "      div.appendChild(progress);\n",
              "      document.body.appendChild(div);\n",
              "\n",
              "      const buffers = [];\n",
              "      let downloaded = 0;\n",
              "\n",
              "      const channel = await google.colab.kernel.comms.open(id);\n",
              "      // Send a message to notify the kernel that we're ready.\n",
              "      channel.send({})\n",
              "\n",
              "      for await (const message of channel.messages) {\n",
              "        // Send a message to notify the kernel that we're ready.\n",
              "        channel.send({})\n",
              "        if (message.buffers) {\n",
              "          for (const buffer of message.buffers) {\n",
              "            buffers.push(buffer);\n",
              "            downloaded += buffer.byteLength;\n",
              "            progress.value = downloaded;\n",
              "          }\n",
              "        }\n",
              "      }\n",
              "      const blob = new Blob(buffers, {type: 'application/binary'});\n",
              "      const a = document.createElement('a');\n",
              "      a.href = window.URL.createObjectURL(blob);\n",
              "      a.download = filename;\n",
              "      div.appendChild(a);\n",
              "      a.click();\n",
              "      div.remove();\n",
              "    }\n",
              "  "
            ]
          },
          "metadata": {}
        },
        {
          "output_type": "display_data",
          "data": {
            "text/plain": [
              "<IPython.core.display.Javascript object>"
            ],
            "application/javascript": [
              "download(\"download_bdba9dd2-2e93-47f2-b1e1-19dd7cfc9e98\", \"jo_texts.zip\", 6228216)"
            ]
          },
          "metadata": {}
        }
      ]
    },
    {
      "cell_type": "code",
      "source": [],
      "metadata": {
        "id": "Pjrk_ItKsw1-"
      },
      "execution_count": null,
      "outputs": []
    }
  ]
}